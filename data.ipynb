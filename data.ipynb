{
 "cells": [
  {
   "cell_type": "code",
   "execution_count": 1,
   "metadata": {},
   "outputs": [],
   "source": [
    "import os\n",
    "import pandas as pd\n",
    "\n",
    "from dotenv import load_dotenv\n",
    "from pymongo import MongoClient\n",
    "from tqdm import tqdm"
   ]
  },
  {
   "cell_type": "code",
   "execution_count": 2,
   "metadata": {},
   "outputs": [],
   "source": [
    "df_ENGINE = pd.read_excel(\"sampel data.xls\", sheet_name=\"Engine\")\n",
    "\n",
    "df_SAVONIUS = pd.read_excel(\"sampel data.xls\", sheet_name=\"Savonius\")\n",
    "df_SAVONIUS = df_SAVONIUS.ffill()\n",
    "df_SAVONIUS[\"Bukaan Katup\"] = df_SAVONIUS[\"Bukaan Katup\"].str.replace(\"°\", \"\")\n",
    "df_SAVONIUS[\"Bukaan Katup\"] = pd.to_numeric(df_SAVONIUS[\"Bukaan Katup\"])\n",
    "\n",
    "df_CRANK_MECHANISM = pd.read_excel(\"sampel data.xls\", sheet_name=\"CRANK MECHANISM\")\n",
    "df_CRANK_MECHANISM = df_CRANK_MECHANISM.iloc[1:].reset_index(drop=True)\n",
    "df_CRANK_MECHANISM.columns = [\n",
    "    \"Sudut Engkol (θ)\",\n",
    "    \"Langkah Piston (S)_Praktek (mm)\",\n",
    "    \"Langkah Piston (S)_Teori (mm)\",\n",
    "    \"Error %\",\n",
    "    \"Massa (m) Kg (10^-3)\",\n",
    "    \"Torsi_Aktual (Ta)\",\n",
    "    \"Torsi_Ideal (Ti)\",\n",
    "    \"Kerugian Gesekan %\"\n",
    "]\n",
    "\n",
    "df_PLTU = pd.read_excel(\"sampel data.xls\", sheet_name=\"PLTU\")"
   ]
  },
  {
   "cell_type": "code",
   "execution_count": 3,
   "metadata": {},
   "outputs": [],
   "source": [
    "load_dotenv(\".env\")\n",
    "client = MongoClient(\n",
    "    os.getenv(\"MONGO_CONNECTION_STRING\"),\n",
    "    serverSelectionTimeoutMS=300000\n",
    ")\n",
    "db = client[os.getenv(\"MONGO_DATABASE_NAME\")]\n",
    "collection_ENGINE = db[os.getenv(\"MONGO_COLLECTION_NAME_ENGINE\")]\n",
    "collection_SAVONIUS = db[os.getenv(\"MONGO_COLLECTION_NAME_SAVONIUS\")]\n",
    "collection_CRANK_MECHANISM = db[os.getenv(\"MONGO_COLLECTION_NAME_CRANK_MECHANISM\")]\n",
    "collection_PLTU = db[os.getenv(\"MONGO_COLLECTION_NAME_PLTU\")]"
   ]
  },
  {
   "cell_type": "code",
   "execution_count": 4,
   "metadata": {},
   "outputs": [],
   "source": [
    "def store_to_mongo(df, collection, mode=\"append\"):\n",
    "    \"\"\"\n",
    "    Stores a dataframe to a MongoDB collection.\n",
    "\n",
    "    Parameters:\n",
    "    df (pd.DataFrame): The dataframe to be stored.\n",
    "    collection (pymongo.collection.Collection): The MongoDB collection.\n",
    "    mode (str): The mode of operation - 'replace' to replace existing data, 'append' to add to existing data.\n",
    "    \"\"\"\n",
    "    # Convert dataframe to list of dictionaries with progress bar\n",
    "    data_dict = [row for row in tqdm(df.to_dict(orient=\"records\"), desc=\"Converting dataframe\")]\n",
    "\n",
    "    if mode == \"replace\":\n",
    "        # Delete all existing documents in the collection\n",
    "        collection.delete_many({})\n",
    "        print(\"Existing data replaced.\")\n",
    "    \n",
    "    # Insert all documents at once\n",
    "    collection.insert_many(data_dict)\n",
    "    print(f\"{len(data_dict)} documents inserted.\")\n",
    "\n",
    "def load_from_mongo(collection):\n",
    "    \"\"\"\n",
    "    Loads data from a MongoDB collection into a pandas dataframe.\n",
    "\n",
    "    Parameters:\n",
    "    collection (pymongo.collection.Collection): The MongoDB collection.\n",
    "\n",
    "    Returns:\n",
    "    pd.DataFrame: The loaded dataframe.\n",
    "    \"\"\"\n",
    "    cursor = collection.find()\n",
    "    df = pd.DataFrame(list(cursor))\n",
    "    \n",
    "    # Remove the MongoDB \"_id\" field if present\n",
    "    if \"_id\" in df.columns:\n",
    "        df.drop(\"_id\", axis=1, inplace=True)\n",
    "    \n",
    "    return df"
   ]
  },
  {
   "cell_type": "code",
   "execution_count": 5,
   "metadata": {},
   "outputs": [
    {
     "name": "stderr",
     "output_type": "stream",
     "text": [
      "Converting dataframe: 100%|██████████| 57/57 [00:00<00:00, 749452.44it/s]\n"
     ]
    },
    {
     "name": "stdout",
     "output_type": "stream",
     "text": [
      "Existing data replaced.\n",
      "57 documents inserted.\n"
     ]
    },
    {
     "name": "stderr",
     "output_type": "stream",
     "text": [
      "Converting dataframe: 100%|██████████| 12/12 [00:00<00:00, 235194.62it/s]\n"
     ]
    },
    {
     "name": "stdout",
     "output_type": "stream",
     "text": [
      "Existing data replaced.\n",
      "12 documents inserted.\n"
     ]
    },
    {
     "name": "stderr",
     "output_type": "stream",
     "text": [
      "Converting dataframe: 100%|██████████| 19/19 [00:00<00:00, 241490.23it/s]\n"
     ]
    },
    {
     "name": "stdout",
     "output_type": "stream",
     "text": [
      "Existing data replaced.\n",
      "19 documents inserted.\n"
     ]
    },
    {
     "name": "stderr",
     "output_type": "stream",
     "text": [
      "Converting dataframe: 100%|██████████| 10/10 [00:00<00:00, 103054.15it/s]"
     ]
    },
    {
     "name": "stdout",
     "output_type": "stream",
     "text": [
      "Existing data replaced.\n",
      "10 documents inserted.\n"
     ]
    },
    {
     "name": "stderr",
     "output_type": "stream",
     "text": [
      "\n"
     ]
    }
   ],
   "source": [
    "store_to_mongo(df_ENGINE, collection_ENGINE, mode=\"replace\")\n",
    "store_to_mongo(df_SAVONIUS, collection_SAVONIUS, mode=\"replace\")\n",
    "store_to_mongo(df_CRANK_MECHANISM, collection_CRANK_MECHANISM, mode=\"replace\")\n",
    "store_to_mongo(df_PLTU, collection_PLTU, mode=\"replace\")"
   ]
  },
  {
   "cell_type": "code",
   "execution_count": 6,
   "metadata": {},
   "outputs": [],
   "source": [
    "df_ENGINE = load_from_mongo(collection_ENGINE)\n",
    "df_SAVONIUS = load_from_mongo(collection_SAVONIUS)\n",
    "df_CRANK_MECHANISM = load_from_mongo(collection_CRANK_MECHANISM)\n",
    "df_PLTU = load_from_mongo(collection_PLTU)"
   ]
  }
 ],
 "metadata": {
  "kernelspec": {
   "display_name": "pandas_profiling",
   "language": "python",
   "name": "python3"
  },
  "language_info": {
   "codemirror_mode": {
    "name": "ipython",
    "version": 3
   },
   "file_extension": ".py",
   "mimetype": "text/x-python",
   "name": "python",
   "nbconvert_exporter": "python",
   "pygments_lexer": "ipython3",
   "version": "3.10.14"
  }
 },
 "nbformat": 4,
 "nbformat_minor": 2
}
